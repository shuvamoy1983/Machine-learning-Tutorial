{
  "nbformat": 4,
  "nbformat_minor": 0,
  "metadata": {
    "colab": {
      "name": "tensorTutorial.ipynb",
      "provenance": [],
      "collapsed_sections": [],
      "toc_visible": true,
      "include_colab_link": true
    },
    "kernelspec": {
      "name": "python3",
      "display_name": "Python 3"
    }
  },
  "cells": [
    {
      "cell_type": "markdown",
      "metadata": {
        "id": "view-in-github",
        "colab_type": "text"
      },
      "source": [
        "<a href=\"https://colab.research.google.com/github/shuvamoy1983/Machine-learning-Tutorial/blob/master/tensorTutorial.ipynb\" target=\"_parent\"><img src=\"https://colab.research.google.com/assets/colab-badge.svg\" alt=\"Open In Colab\"/></a>"
      ]
    },
    {
      "cell_type": "markdown",
      "metadata": {
        "id": "aGdRKOA1noAP"
      },
      "source": [
        ""
      ]
    },
    {
      "cell_type": "markdown",
      "metadata": {
        "id": "WBYsO5pMLKRC"
      },
      "source": [
        "# New Section"
      ]
    },
    {
      "cell_type": "code",
      "metadata": {
        "colab": {
          "base_uri": "https://localhost:8080/"
        },
        "id": "694lYLd7LReG",
        "outputId": "f22f7c83-25ba-43d5-f5e4-98da1d3ac7f5"
      },
      "source": [
        "pip install tensor"
      ],
      "execution_count": null,
      "outputs": [
        {
          "output_type": "stream",
          "text": [
            "Collecting tensor\n",
            "\u001b[?25l  Downloading https://files.pythonhosted.org/packages/ed/87/796821bf9579557a5baac1c01c42bd56e3be47bdaf131779ccdd953f1c80/tensor-0.3.6.tar.gz (50kB)\n",
            "\u001b[K     |████████████████████████████████| 51kB 3.8MB/s \n",
            "\u001b[?25hCollecting Twisted\n",
            "\u001b[?25l  Downloading https://files.pythonhosted.org/packages/b7/04/1a664c9e5ec0224a1c1a154ddecaa4dc7b8967521bba225efcc41a03d5f3/Twisted-20.3.0-cp36-cp36m-manylinux1_x86_64.whl (3.1MB)\n",
            "\u001b[K     |████████████████████████████████| 3.1MB 12.0MB/s \n",
            "\u001b[?25hRequirement already satisfied: PyYaml in /usr/local/lib/python3.6/dist-packages (from tensor) (3.13)\n",
            "Requirement already satisfied: protobuf in /usr/local/lib/python3.6/dist-packages (from tensor) (3.12.4)\n",
            "Collecting construct\n",
            "\u001b[?25l  Downloading https://files.pythonhosted.org/packages/00/e0/71e41b817220333c7c511c3f78d988d69f9b03b5cca2f251a898ad3567a3/construct-2.10.56.tar.gz (54kB)\n",
            "\u001b[K     |████████████████████████████████| 61kB 5.6MB/s \n",
            "\u001b[?25hCollecting pysnmp\n",
            "\u001b[?25l  Downloading https://files.pythonhosted.org/packages/25/7e/1e17facea54dd21c6a72db6ae57a5bfdd56edd54b8c4850668b554bdddba/pysnmp-4.4.12-py2.py3-none-any.whl (296kB)\n",
            "\u001b[K     |████████████████████████████████| 296kB 42.5MB/s \n",
            "\u001b[?25hCollecting incremental>=16.10.1\n",
            "  Downloading https://files.pythonhosted.org/packages/f5/1d/c98a587dc06e107115cf4a58b49de20b19222c83d75335a192052af4c4b7/incremental-17.5.0-py2.py3-none-any.whl\n",
            "Collecting PyHamcrest!=1.10.0,>=1.9.0\n",
            "\u001b[?25l  Downloading https://files.pythonhosted.org/packages/40/16/e54cc65891f01cb62893540f44ffd3e8dab0a22443e1b438f1a9f5574bee/PyHamcrest-2.0.2-py3-none-any.whl (52kB)\n",
            "\u001b[K     |████████████████████████████████| 61kB 7.2MB/s \n",
            "\u001b[?25hCollecting hyperlink>=17.1.1\n",
            "\u001b[?25l  Downloading https://files.pythonhosted.org/packages/88/a5/74f77547e9b175eb894d4fec5c76b0c8176c045e5bf3ac6a4d4d3feab4bb/hyperlink-20.0.1-py2.py3-none-any.whl (48kB)\n",
            "\u001b[K     |████████████████████████████████| 51kB 5.4MB/s \n",
            "\u001b[?25hRequirement already satisfied: attrs>=19.2.0 in /usr/local/lib/python3.6/dist-packages (from Twisted->tensor) (20.3.0)\n",
            "Collecting Automat>=0.3.0\n",
            "  Downloading https://files.pythonhosted.org/packages/dd/83/5f6f3c1a562674d65efc320257bdc0873ec53147835aeef7762fe7585273/Automat-20.2.0-py2.py3-none-any.whl\n",
            "Collecting zope.interface>=4.4.2\n",
            "\u001b[?25l  Downloading https://files.pythonhosted.org/packages/82/b0/da8afd9b3bd50c7665ecdac062f182982af1173c9081f9af7261091c5588/zope.interface-5.2.0-cp36-cp36m-manylinux2010_x86_64.whl (236kB)\n",
            "\u001b[K     |████████████████████████████████| 245kB 46.5MB/s \n",
            "\u001b[?25hCollecting constantly>=15.1\n",
            "  Downloading https://files.pythonhosted.org/packages/b9/65/48c1909d0c0aeae6c10213340ce682db01b48ea900a7d9fce7a7910ff318/constantly-15.1.0-py2.py3-none-any.whl\n",
            "Requirement already satisfied: six>=1.9 in /usr/local/lib/python3.6/dist-packages (from protobuf->tensor) (1.15.0)\n",
            "Requirement already satisfied: setuptools in /usr/local/lib/python3.6/dist-packages (from protobuf->tensor) (50.3.2)\n",
            "Collecting pysmi\n",
            "\u001b[?25l  Downloading https://files.pythonhosted.org/packages/1f/fc/02361d1c2b247de73070c457c4da98c448693154894c14f2d7b48dfabf7e/pysmi-0.3.4-py2.py3-none-any.whl (80kB)\n",
            "\u001b[K     |████████████████████████████████| 81kB 9.0MB/s \n",
            "\u001b[?25hCollecting pycryptodomex\n",
            "\u001b[?25l  Downloading https://files.pythonhosted.org/packages/ff/29/1541b26a2b679bafb124138c5f009ed7821d9d329536b79a313a9a1aa684/pycryptodomex-3.9.9-cp36-cp36m-manylinux1_x86_64.whl (13.7MB)\n",
            "\u001b[K     |████████████████████████████████| 13.7MB 27.9MB/s \n",
            "\u001b[?25hRequirement already satisfied: pyasn1>=0.2.3 in /usr/local/lib/python3.6/dist-packages (from pysnmp->tensor) (0.4.8)\n",
            "Requirement already satisfied: idna>=2.5 in /usr/local/lib/python3.6/dist-packages (from hyperlink>=17.1.1->Twisted->tensor) (2.10)\n",
            "Collecting ply\n",
            "\u001b[?25l  Downloading https://files.pythonhosted.org/packages/a3/58/35da89ee790598a0700ea49b2a66594140f44dec458c07e8e3d4979137fc/ply-3.11-py2.py3-none-any.whl (49kB)\n",
            "\u001b[K     |████████████████████████████████| 51kB 4.9MB/s \n",
            "\u001b[?25hBuilding wheels for collected packages: tensor, construct\n",
            "  Building wheel for tensor (setup.py) ... \u001b[?25l\u001b[?25hdone\n",
            "  Created wheel for tensor: filename=tensor-0.3.6-cp36-none-any.whl size=71571 sha256=19d9a17f873c0c0dead5ff59181ab7af7f14a9043d44d36a6f3b7eae5a1eafc9\n",
            "  Stored in directory: /root/.cache/pip/wheels/32/ba/ac/dbd210e9db9e5d549b3d98c57713684c5768298f259b1925ef\n",
            "  Building wheel for construct (setup.py) ... \u001b[?25l\u001b[?25hdone\n",
            "  Created wheel for construct: filename=construct-2.10.56-cp36-none-any.whl size=56879 sha256=f9e8d96d0521dfc1ab06b2b24cffa85de0922ea53f572ecd6c99298880f1a265\n",
            "  Stored in directory: /root/.cache/pip/wheels/28/7b/bb/5af0216178450142d64876ad635c9e64cb8ac48a584c419214\n",
            "Successfully built tensor construct\n",
            "Installing collected packages: incremental, PyHamcrest, hyperlink, Automat, zope.interface, constantly, Twisted, construct, ply, pysmi, pycryptodomex, pysnmp, tensor\n"
          ],
          "name": "stdout"
        }
      ]
    },
    {
      "cell_type": "code",
      "metadata": {
        "id": "zEAHlXovIgBd"
      },
      "source": [
        "import tensorflow as tf\r\n"
      ],
      "execution_count": 85,
      "outputs": []
    },
    {
      "cell_type": "markdown",
      "metadata": {
        "id": "S_l5_FTyIv_O"
      },
      "source": [
        "Initialization of Tensor Flow"
      ]
    },
    {
      "cell_type": "code",
      "metadata": {
        "id": "g1X65a6Lh4m-"
      },
      "source": [
        "x=tf.constant([[2,3,4],[4,5,6]],shape=(2,3),dtype=float)"
      ],
      "execution_count": null,
      "outputs": []
    },
    {
      "cell_type": "code",
      "metadata": {
        "colab": {
          "base_uri": "https://localhost:8080/"
        },
        "id": "Bhe-oDqFKM-4",
        "outputId": "96eaff4f-afb7-44b2-c7b3-f5337751ee20"
      },
      "source": [
        "x"
      ],
      "execution_count": null,
      "outputs": [
        {
          "output_type": "execute_result",
          "data": {
            "text/plain": [
              "<tf.Tensor: shape=(2, 3), dtype=float32, numpy=\n",
              "array([[2., 3., 4.],\n",
              "       [4., 5., 6.]], dtype=float32)>"
            ]
          },
          "metadata": {
            "tags": []
          },
          "execution_count": 9
        }
      ]
    },
    {
      "cell_type": "code",
      "metadata": {
        "colab": {
          "base_uri": "https://localhost:8080/"
        },
        "id": "kBDhoQ1bKDws",
        "outputId": "13812c5d-5ef8-43be-8fa9-d44879e82cfa"
      },
      "source": [
        "x=tf.ones((3,3))\r\n",
        "x"
      ],
      "execution_count": null,
      "outputs": [
        {
          "output_type": "execute_result",
          "data": {
            "text/plain": [
              "<tf.Tensor: shape=(3, 3), dtype=float32, numpy=\n",
              "array([[1., 1., 1.],\n",
              "       [1., 1., 1.],\n",
              "       [1., 1., 1.]], dtype=float32)>"
            ]
          },
          "metadata": {
            "tags": []
          },
          "execution_count": 16
        }
      ]
    },
    {
      "cell_type": "code",
      "metadata": {
        "colab": {
          "base_uri": "https://localhost:8080/"
        },
        "id": "8VC8QwdMMn4h",
        "outputId": "0c2c4404-7f2e-4bda-cc1b-c987d6010f7e"
      },
      "source": [
        "x=tf.zeros((3,3))\r\n",
        "x"
      ],
      "execution_count": null,
      "outputs": [
        {
          "output_type": "execute_result",
          "data": {
            "text/plain": [
              "<tf.Tensor: shape=(3, 3), dtype=float32, numpy=\n",
              "array([[0., 0., 0.],\n",
              "       [0., 0., 0.],\n",
              "       [0., 0., 0.]], dtype=float32)>"
            ]
          },
          "metadata": {
            "tags": []
          },
          "execution_count": 17
        }
      ]
    },
    {
      "cell_type": "code",
      "metadata": {
        "colab": {
          "base_uri": "https://localhost:8080/"
        },
        "id": "zcZHcyGCM7hg",
        "outputId": "8a8f8130-debb-46d0-91e0-042e233c9a2f"
      },
      "source": [
        "x=tf.eye(3) ##identifyng matrix\r\n",
        "x"
      ],
      "execution_count": null,
      "outputs": [
        {
          "output_type": "execute_result",
          "data": {
            "text/plain": [
              "<tf.Tensor: shape=(3, 3), dtype=float32, numpy=\n",
              "array([[1., 0., 0.],\n",
              "       [0., 1., 0.],\n",
              "       [0., 0., 1.]], dtype=float32)>"
            ]
          },
          "metadata": {
            "tags": []
          },
          "execution_count": 19
        }
      ]
    },
    {
      "cell_type": "code",
      "metadata": {
        "colab": {
          "base_uri": "https://localhost:8080/"
        },
        "id": "4NzqxwVvNKjN",
        "outputId": "4454c4d1-4042-4f70-b429-ebf2202306b8"
      },
      "source": [
        "x=tf.random.normal((3,3),mean=0.0,stddev=1)\r\n",
        "x"
      ],
      "execution_count": null,
      "outputs": [
        {
          "output_type": "execute_result",
          "data": {
            "text/plain": [
              "<tf.Tensor: shape=(3, 3), dtype=float32, numpy=\n",
              "array([[-0.4339271 , -0.54042584,  0.30231947],\n",
              "       [-0.36223915, -0.63334   , -0.20457107],\n",
              "       [-0.7043122 ,  1.1730131 , -0.8075742 ]], dtype=float32)>"
            ]
          },
          "metadata": {
            "tags": []
          },
          "execution_count": 20
        }
      ]
    },
    {
      "cell_type": "code",
      "metadata": {
        "colab": {
          "base_uri": "https://localhost:8080/"
        },
        "id": "ZQdFhIRlO4gB",
        "outputId": "5e9f1c69-41e7-4d21-beab-d9108259ffa2"
      },
      "source": [
        "x=tf.random.uniform((1,3),minval=0,maxval=1)\r\n",
        "x"
      ],
      "execution_count": null,
      "outputs": [
        {
          "output_type": "execute_result",
          "data": {
            "text/plain": [
              "<tf.Tensor: shape=(1, 3), dtype=float32, numpy=array([[0.8110423 , 0.30540347, 0.32542443]], dtype=float32)>"
            ]
          },
          "metadata": {
            "tags": []
          },
          "execution_count": 21
        }
      ]
    },
    {
      "cell_type": "code",
      "metadata": {
        "id": "s36p8b9fQIvl"
      },
      "source": [
        "x=tf.range(start=1,delta=2,limit=10)"
      ],
      "execution_count": 3,
      "outputs": []
    },
    {
      "cell_type": "code",
      "metadata": {
        "id": "BI8LvHGfV8PF",
        "colab": {
          "base_uri": "https://localhost:8080/"
        },
        "outputId": "205015a1-68dc-43f6-d8e4-f2572fc7129f"
      },
      "source": [
        "tf.cast(x,dtype=tf.float64)"
      ],
      "execution_count": 8,
      "outputs": [
        {
          "output_type": "execute_result",
          "data": {
            "text/plain": [
              "<tf.Tensor: shape=(5,), dtype=float64, numpy=array([1., 3., 5., 7., 9.])>"
            ]
          },
          "metadata": {
            "tags": []
          },
          "execution_count": 8
        }
      ]
    },
    {
      "cell_type": "markdown",
      "metadata": {
        "id": "C93kYU6iYCz-"
      },
      "source": [
        "##Mathematical Operation"
      ]
    },
    {
      "cell_type": "code",
      "metadata": {
        "colab": {
          "base_uri": "https://localhost:8080/"
        },
        "id": "Gce2uAivYBOU",
        "outputId": "2b0388fa-d4cb-443d-c248-79843652c09e"
      },
      "source": [
        "x=tf.constant([2,3,4])\r\n",
        "y=tf.constant([3,4,5])\r\n",
        "z=tf.add(x,y)\r\n",
        "z"
      ],
      "execution_count": 9,
      "outputs": [
        {
          "output_type": "execute_result",
          "data": {
            "text/plain": [
              "<tf.Tensor: shape=(3,), dtype=int32, numpy=array([5, 7, 9], dtype=int32)>"
            ]
          },
          "metadata": {
            "tags": []
          },
          "execution_count": 9
        }
      ]
    },
    {
      "cell_type": "code",
      "metadata": {
        "colab": {
          "base_uri": "https://localhost:8080/"
        },
        "id": "NpqbIPsGZdb0",
        "outputId": "8484911e-d5fe-479f-f93e-6611fa9549ea"
      },
      "source": [
        "z=tf.subtract(x,y)\r\n",
        "z"
      ],
      "execution_count": 10,
      "outputs": [
        {
          "output_type": "execute_result",
          "data": {
            "text/plain": [
              "<tf.Tensor: shape=(3,), dtype=int32, numpy=array([-1, -1, -1], dtype=int32)>"
            ]
          },
          "metadata": {
            "tags": []
          },
          "execution_count": 10
        }
      ]
    },
    {
      "cell_type": "code",
      "metadata": {
        "colab": {
          "base_uri": "https://localhost:8080/"
        },
        "id": "qsk7JOoEaWx-",
        "outputId": "26d899f5-4826-4ba0-ca0f-f1e10a042db9"
      },
      "source": [
        "z=tf.multiply(x,y)\r\n",
        "z"
      ],
      "execution_count": 12,
      "outputs": [
        {
          "output_type": "execute_result",
          "data": {
            "text/plain": [
              "<tf.Tensor: shape=(3,), dtype=int32, numpy=array([ 6, 12, 20], dtype=int32)>"
            ]
          },
          "metadata": {
            "tags": []
          },
          "execution_count": 12
        }
      ]
    },
    {
      "cell_type": "code",
      "metadata": {
        "colab": {
          "base_uri": "https://localhost:8080/"
        },
        "id": "Pxoamm7ZbJMh",
        "outputId": "fb85f89b-1a26-47f5-ae0a-d96a5b9f3f03"
      },
      "source": [
        "z=tf.tensordot(x,y,axes=0)\r\n",
        "z"
      ],
      "execution_count": 13,
      "outputs": [
        {
          "output_type": "execute_result",
          "data": {
            "text/plain": [
              "<tf.Tensor: shape=(3, 3), dtype=int32, numpy=\n",
              "array([[ 6,  8, 10],\n",
              "       [ 9, 12, 15],\n",
              "       [12, 16, 20]], dtype=int32)>"
            ]
          },
          "metadata": {
            "tags": []
          },
          "execution_count": 13
        }
      ]
    },
    {
      "cell_type": "code",
      "metadata": {
        "colab": {
          "base_uri": "https://localhost:8080/"
        },
        "id": "y1kd2zy3bhrJ",
        "outputId": "1e37fbd4-efee-492f-eddf-dbc66cb9300e"
      },
      "source": [
        "x=tf.constant([[2,3,4],[3,4,5]])\r\n",
        "y=tf.constant([[1,2,3],[1,3,2]])\r\n",
        "tf.add(x,y)"
      ],
      "execution_count": 16,
      "outputs": [
        {
          "output_type": "execute_result",
          "data": {
            "text/plain": [
              "<tf.Tensor: shape=(2, 3), dtype=int32, numpy=\n",
              "array([[3, 5, 7],\n",
              "       [4, 7, 7]], dtype=int32)>"
            ]
          },
          "metadata": {
            "tags": []
          },
          "execution_count": 16
        }
      ]
    },
    {
      "cell_type": "code",
      "metadata": {
        "colab": {
          "base_uri": "https://localhost:8080/"
        },
        "id": "tc04W9avcDhl",
        "outputId": "85255288-9de7-4502-bdea-75e3eebf217b"
      },
      "source": [
        "x=tf.constant([[2,3,4],\r\n",
        "               [3,4,5]])\r\n",
        "y=tf.constant([1,2,3])\r\n",
        "tf.tensordot(x,y,axes=1)"
      ],
      "execution_count": 60,
      "outputs": [
        {
          "output_type": "execute_result",
          "data": {
            "text/plain": [
              "<tf.Tensor: shape=(2,), dtype=int32, numpy=array([20, 26], dtype=int32)>"
            ]
          },
          "metadata": {
            "tags": []
          },
          "execution_count": 60
        }
      ]
    },
    {
      "cell_type": "code",
      "metadata": {
        "colab": {
          "base_uri": "https://localhost:8080/"
        },
        "id": "BleT0JPc3Bxh",
        "outputId": "adb78c01-92d9-438c-e2b7-8a390f7209a8"
      },
      "source": [
        "x=tf.constant([[2,3,4],[3,4,5]])\r\n",
        "y=tf.constant([1,2,3])\r\n",
        "##multiply and sum\r\n",
        "tf.reduce_sum(x*y,axis=0)"
      ],
      "execution_count": 41,
      "outputs": [
        {
          "output_type": "execute_result",
          "data": {
            "text/plain": [
              "<tf.Tensor: shape=(3,), dtype=int32, numpy=array([ 5, 14, 27], dtype=int32)>"
            ]
          },
          "metadata": {
            "tags": []
          },
          "execution_count": 41
        }
      ]
    },
    {
      "cell_type": "code",
      "metadata": {
        "colab": {
          "base_uri": "https://localhost:8080/"
        },
        "id": "vcj6_43p5hJK",
        "outputId": "bb10080a-895b-466f-988d-1d1723fdbe0d"
      },
      "source": [
        "x=tf.random.normal([2,3])\r\n",
        "x"
      ],
      "execution_count": 50,
      "outputs": [
        {
          "output_type": "execute_result",
          "data": {
            "text/plain": [
              "<tf.Tensor: shape=(2, 3), dtype=float32, numpy=\n",
              "array([[-0.06927698,  0.48067173,  1.143894  ],\n",
              "       [ 1.265197  , -0.59666985, -1.2423768 ]], dtype=float32)>"
            ]
          },
          "metadata": {
            "tags": []
          },
          "execution_count": 50
        }
      ]
    },
    {
      "cell_type": "code",
      "metadata": {
        "colab": {
          "base_uri": "https://localhost:8080/"
        },
        "id": "DNxbGsun7FcM",
        "outputId": "c6571b6a-91cc-4c7d-bf70-62efb8a2ccdb"
      },
      "source": [
        "y=tf.random.normal([3,2])\r\n",
        "y"
      ],
      "execution_count": 57,
      "outputs": [
        {
          "output_type": "execute_result",
          "data": {
            "text/plain": [
              "<tf.Tensor: shape=(3, 2), dtype=float32, numpy=\n",
              "array([[ 0.20342714,  0.15251967],\n",
              "       [-0.5449921 ,  0.58673096],\n",
              "       [ 0.71466714,  0.9981624 ]], dtype=float32)>"
            ]
          },
          "metadata": {
            "tags": []
          },
          "execution_count": 57
        }
      ]
    },
    {
      "cell_type": "code",
      "metadata": {
        "colab": {
          "base_uri": "https://localhost:8080/"
        },
        "id": "OY0THNsC7GuA",
        "outputId": "b823001b-b927-40da-a5b7-006f1bd2dcfa"
      },
      "source": [
        "tf.matmul(x,y)"
      ],
      "execution_count": 58,
      "outputs": [
        {
          "output_type": "execute_result",
          "data": {
            "text/plain": [
              "<tf.Tensor: shape=(2, 2), dtype=float32, numpy=\n",
              "array([[ 0.54144835,  1.4132508 ],\n",
              "       [-0.3053301 , -1.3972111 ]], dtype=float32)>"
            ]
          },
          "metadata": {
            "tags": []
          },
          "execution_count": 58
        }
      ]
    },
    {
      "cell_type": "markdown",
      "metadata": {
        "id": "56rX2PouCETS"
      },
      "source": [
        "##Indexing"
      ]
    },
    {
      "cell_type": "code",
      "metadata": {
        "id": "8ErCFcRaCNNg",
        "outputId": "cddf31f7-8dd5-4167-d289-878cca34d4cb",
        "colab": {
          "base_uri": "https://localhost:8080/"
        }
      },
      "source": [
        "x=tf.constant([0,1,6,7,4,5,9,11])\r\n",
        "print(x[1:3]) ## print only 3 elements starting from zero location\r\n",
        "print(x[::3]) ##print after evry 3 elements\r\n",
        "print(x[::-1]) ## reverse order\r\n",
        "print(x[:-1]) ## print each element except the last one"
      ],
      "execution_count": 73,
      "outputs": [
        {
          "output_type": "stream",
          "text": [
            "tf.Tensor([1 6], shape=(2,), dtype=int32)\n",
            "tf.Tensor([0 7 9], shape=(3,), dtype=int32)\n",
            "tf.Tensor([11  9  5  4  7  6  1  0], shape=(8,), dtype=int32)\n",
            "tf.Tensor([0 1 6 7 4 5 9], shape=(7,), dtype=int32)\n"
          ],
          "name": "stdout"
        }
      ]
    },
    {
      "cell_type": "code",
      "metadata": {
        "id": "EoTH9bopDolQ"
      },
      "source": [
        "x=tf.constant([[1,2],\r\n",
        "              [2,3],\r\n",
        "              [3,4]])"
      ],
      "execution_count": 76,
      "outputs": []
    },
    {
      "cell_type": "code",
      "metadata": {
        "id": "QRum4muLEWoE",
        "outputId": "38714d91-a8b6-4be8-e0ce-117ab6595a6e",
        "colab": {
          "base_uri": "https://localhost:8080/"
        }
      },
      "source": [
        "print(x[0,:])\r\n",
        "print(x[0:2,:])"
      ],
      "execution_count": 80,
      "outputs": [
        {
          "output_type": "stream",
          "text": [
            "tf.Tensor([1 2], shape=(2,), dtype=int32)\n",
            "tf.Tensor(\n",
            "[[1 2]\n",
            " [2 3]], shape=(2, 2), dtype=int32)\n"
          ],
          "name": "stdout"
        }
      ]
    },
    {
      "cell_type": "markdown",
      "metadata": {
        "id": "qyzk4JqvFk2v"
      },
      "source": [
        "##Reshape and Transpose"
      ]
    },
    {
      "cell_type": "code",
      "metadata": {
        "id": "NYTXNFZbFuin",
        "outputId": "1339842f-70f6-4adf-88dc-cb4ec012ca9a",
        "colab": {
          "base_uri": "https://localhost:8080/"
        }
      },
      "source": [
        "x=tf.range(9)\r\n",
        "x = tf.reshape(x,(3,3))\r\n",
        "x"
      ],
      "execution_count": 87,
      "outputs": [
        {
          "output_type": "execute_result",
          "data": {
            "text/plain": [
              "<tf.Tensor: shape=(3, 3), dtype=int32, numpy=\n",
              "array([[0, 1, 2],\n",
              "       [3, 4, 5],\n",
              "       [6, 7, 8]], dtype=int32)>"
            ]
          },
          "metadata": {
            "tags": []
          },
          "execution_count": 87
        }
      ]
    },
    {
      "cell_type": "markdown",
      "metadata": {
        "id": "ic22X10YGb1d"
      },
      "source": [
        "## transpose column to row"
      ]
    },
    {
      "cell_type": "code",
      "metadata": {
        "id": "QR0zkDNvGFJt",
        "outputId": "54eae60b-5c54-4f5d-a439-f3173804cde0",
        "colab": {
          "base_uri": "https://localhost:8080/"
        }
      },
      "source": [
        "tf.transpose(x,perm=(1,0))"
      ],
      "execution_count": 91,
      "outputs": [
        {
          "output_type": "execute_result",
          "data": {
            "text/plain": [
              "<tf.Tensor: shape=(3, 3), dtype=int32, numpy=\n",
              "array([[0, 3, 6],\n",
              "       [1, 4, 7],\n",
              "       [2, 5, 8]], dtype=int32)>"
            ]
          },
          "metadata": {
            "tags": []
          },
          "execution_count": 91
        }
      ]
    }
  ]
}